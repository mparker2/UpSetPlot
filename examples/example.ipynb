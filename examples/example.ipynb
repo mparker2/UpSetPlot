{
 "cells": [
  {
   "cell_type": "markdown",
   "metadata": {},
   "source": [
    "# New Notebook\n",
    "\n",
    "Whats this notebook about?"
   ]
  },
  {
   "cell_type": "code",
   "execution_count": 2,
   "metadata": {},
   "outputs": [
    {
     "data": {
      "image/png": "[encoded data removed]",
      "text/plain": [
       "<Figure size 360x72 with 1 Axes>"
      ]
     },
     "metadata": {},
     "output_type": "display_data"
    }
   ],
   "source": [
    "import sys\n",
    "import os\n",
    "from glob import glob\n",
    "import re\n",
    "\n",
    "import numpy as np\n",
    "import pandas as pd\n",
    "from scipy import stats\n",
    "import matplotlib.pyplot as plt\n",
    "from matplotlib.colors import ListedColormap\n",
    "import seaborn as sns\n",
    "from IPython.display import display\n",
    "\n",
    "from upsetplot import plot as upsetplot, generate_data\n",
    "from upsetplot.data import from_sets\n",
    "from upsetplot.plotting import _process_data\n",
    "\n",
    "## Default plotting params\n",
    "\n",
    "%matplotlib inline\n",
    "sns.set(font='Arial')\n",
    "plt.rcParams['svg.fonttype'] = 'none'\n",
    "style = sns.axes_style('white')\n",
    "style.update(sns.axes_style('ticks'))\n",
    "style['xtick.major.size'] = 2\n",
    "style['ytick.major.size'] = 2\n",
    "sns.set(font_scale=2, style=style)\n",
    "pal = sns.color_palette(['#0072b2', '#d55e00', '#009e73', '#f0e442', '#cc79a7'])\n",
    "cmap = ListedColormap(pal.as_hex())\n",
    "sns.set_palette(pal)\n",
    "sns.palplot(pal)\n",
    "plt.show()"
   ]
  },
  {
   "cell_type": "code",
   "execution_count": 34,
   "metadata": {},
   "outputs": [
    {
     "data": {
      "text/plain": [
       "Cond A  Cond C  Cond B\n",
       "True    True    True        6\n",
       "                False       3\n",
       "        False   True      134\n",
       "                False      57\n",
       "False   True    True        0\n",
       "                False     221\n",
       "        False   True      120\n",
       "                False       0\n",
       "dtype: int64"
      ]
     },
     "execution_count": 34,
     "metadata": {},
     "output_type": "execute_result"
    }
   ],
   "source": [
    "all_genes = np.arange(10000)\n",
    "genes_cond_a = np.random.choice(all_genes, size=200, replace=False)\n",
    "prob = np.array([100 if x in genes_cond_a else 1 for x in all_genes])\n",
    "prob = prob / prob.sum()\n",
    "genes_cond_b = np.random.choice(all_genes, size=260, replace=False, p=prob)\n",
    "genes_cond_c = np.random.choice(all_genes, size=230, replace=False)\n",
    "experiment = from_sets({\n",
    "    'Cond A': set(genes_cond_a),\n",
    "    'Cond B': set(genes_cond_b),\n",
    "    'Cond C': set(genes_cond_c)\n",
    "})\n",
    "experiment"
   ]
  },
  {
   "cell_type": "code",
   "execution_count": 35,
   "metadata": {},
   "outputs": [
    {
     "name": "stderr",
     "output_type": "stream",
     "text": [
      "/home/matthew/Documents/UpSetPlot/upsetplot/plotting.py:30: PerformanceWarning: indexing past lexsort depth may impact performance.\n",
      "  totals.append(data.loc[idxslice].sum())\n",
      "/home/matthew/anaconda3/envs/ml_python35/lib/python3.5/site-packages/matplotlib/cbook/deprecation.py:107: MatplotlibDeprecationWarning: Passing one of 'on', 'true', 'off', 'false' as a boolean is deprecated; use an actual boolean (True/False) instead.\n",
      "  warnings.warn(message, mplDeprecation, stacklevel=1)\n"
     ]
    },
    {
     "data": {
      "image/png": "[encoded data removed]",
      "text/plain": [
       "<Figure size 491.375x450 with 4 Axes>"
      ]
     },
     "metadata": {},
     "output_type": "display_data"
    }
   ],
   "source": [
    "upsetplot(experiment,\n",
    "          sort_by='degree',\n",
    "          sort_sets_by=None,\n",
    "          bootstrap_expected=True,\n",
    "          global_set_size=len(all_genes),\n",
    "          n_boot=100, ci=95,\n",
    "          orientation='horizontal',\n",
    "          discard_empty=True,\n",
    "          element_size=50)\n",
    "plt.show()"
   ]
  },
  {
   "cell_type": "code",
   "execution_count": null,
   "metadata": {},
   "outputs": [],
   "source": []
  }
 ],
 "metadata": {
  "kernelspec": {
   "display_name": "Environment (conda_ml_python35)",
   "language": "python",
   "name": "conda_ml_python35"
  },
  "language_info": {
   "codemirror_mode": {
    "name": "ipython",
    "version": 3
   },
   "file_extension": ".py",
   "mimetype": "text/x-python",
   "name": "python",
   "nbconvert_exporter": "python",
   "pygments_lexer": "ipython3",
   "version": "3.5.5"
  }
 },
 "nbformat": 4,
 "nbformat_minor": 2
}
